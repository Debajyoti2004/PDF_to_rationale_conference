{
 "cells": [
  {
   "cell_type": "code",
   "execution_count": 2,
   "metadata": {},
   "outputs": [
    {
     "name": "stdout",
     "output_type": "stream",
     "text": [
      "['The MetaFood Workshop Challenge focuses on integrating computer vision technologies with culinary practices to enhance dietary monitoring and nutritional assessment. The challenge aims to improve food portion estimation by creating accurate 3D models of food using multiple 2D images, addressing the limitations of traditional methods like 24-Hour Recall or Food Frequency Questionnaires (FFQs), which are prone to inaccuracies. Participants are tasked with developing solutions to estimate food portions from 2D images, with varying difficulty levels based on the number of images provided. This initiative brings together experts from computer vision, machine learning, and nutrition science to advance 3D food reconstruction techniques, which could revolutionize food portion estimation, nutritional tracking, and public health\\xa0initiatives', 'Contemporary recommender systems face popularity bias, which leads to the overrepresentation of popular items and underrepresentation of unpopular ones. Collaborative filtering methods typically struggle with this issue, causing imbalanced recommendation quality. To mitigate this, a re-weighting approach is proposed that adjusts the importance of popular and unpopular items during training. The model uses contrastive learning to optimize item representations, ensuring balanced recommendations. Hyperparameters control how different item groups are weighted, and dynamic classification of items based on popularity helps maintain balance, improving the model’s generalization and performance, especially for unpopular\\xa0items.', \"This experimental research employs whimsical methods to explore photosynthesis and its interconnectedness with various phenomena. Unconventional techniques, such as interpretive dance, labyrinthine puzzles, and cryptic messages, led to unexpected findings, including the discovery of interdimensional communication and cosmic culinary experimentation. The study revealed correlations between photosynthesis and seemingly unrelated events like frisbee trajectories and harmonica-playing plants. Additionally, the research suggests photosynthesis might influence global ecosystems, climate change, and even extraterrestrial life. The findings call for a reevaluation of current scientific frameworks, urging further exploration of photosynthesis' vast, unexplored connections with both life on Earth and the universe\\xa0beyond.\", 'A study of the \"wisdom of the crowd\"', 'We propose an unconventional method for incorporating an AI-generated dreamscape into the personalization framework, despite its apparent lack of logical connection to traditional educational paradigms.', \"A transformer-based method for indoor localization of motor fluctuations in Parkinson's disease.\", 'The results of a deep generative model are based on the fact that the upper limit is not exponentially dependent on the ambient space dimension.', 'The ephemeral and the mundane, as the luminescent properties of certain metals converge with the choreographed movements of avian species, while the diaphanous textures of silk fabrics whispers secrets to the wind, which in turn resonates with the vibrational frequencies of subatomic particles, culminating in an ineffable synthesis of the transcendent and the mundane.', 'AR enhances synchronization and fostering gesture resonance, enhancing synchronization and fostering gesture resonance.', 'We propose a new convergence method for saddle point optimization, achieving a convergence rate of 1/k for the most effective iteration, measured by the squared operator norm.', 'The eerie case of the missing socks in the laundry basket, which somehow correlates with the migration patterns of but- terflies and the art of playing the harmonica underwater, where the sounds produced are eerily similar to the whispers of ancient forests, whispering tales of forgotten civilizations and their advanced understanding of quantum mechanics, applied to the manufacture of sentient toasters that can recite Shakespearean sonnets, all of which is connected to the inherent properties of graphite and its ability to conduct the thoughts of extraterrestrial beings, who are known to communicate through a complex system of interpretive dance and pastry baking, culminating in a profound understanding of the co', 'We demonstrate the applicability of this method with synthetic datasets and on an aircraft collision avoidance problem.', 'We propose a method for evaluating the empirical risk of supervised ReLU networks.', 'A review of the effectiveness of different models for recognizing activities in baseball broadcast videos.', 'Dual annotations improve the accuracy of a neural classification model and improve its F1 scores for less common yet more challenging semantic relations.']\n"
     ]
    }
   ],
   "source": [
    "from predict import summaries,pred_summaries\n",
    "new_summaries = summaries + pred_summaries\n",
    "print(new_summaries)\n"
   ]
  },
  {
   "cell_type": "code",
   "execution_count": 3,
   "metadata": {},
   "outputs": [
    {
     "name": "stdout",
     "output_type": "stream",
     "text": [
      "length of all summaries should be 15 : 15\n"
     ]
    }
   ],
   "source": [
    "print(\"length of all summaries should be 15 :\",len(new_summaries))"
   ]
  },
  {
   "cell_type": "code",
   "execution_count": 4,
   "metadata": {},
   "outputs": [
    {
     "data": {
      "text/html": [
       "<div>\n",
       "<style scoped>\n",
       "    .dataframe tbody tr th:only-of-type {\n",
       "        vertical-align: middle;\n",
       "    }\n",
       "\n",
       "    .dataframe tbody tr th {\n",
       "        vertical-align: top;\n",
       "    }\n",
       "\n",
       "    .dataframe thead th {\n",
       "        text-align: right;\n",
       "    }\n",
       "</style>\n",
       "<table border=\"1\" class=\"dataframe\">\n",
       "  <thead>\n",
       "    <tr style=\"text-align: right;\">\n",
       "      <th></th>\n",
       "      <th>ID</th>\n",
       "      <th>PDF</th>\n",
       "      <th>Label</th>\n",
       "      <th>Conference</th>\n",
       "      <th>Rationale</th>\n",
       "    </tr>\n",
       "  </thead>\n",
       "  <tbody>\n",
       "    <tr>\n",
       "      <th>0</th>\n",
       "      <td>R007.pdf</td>\n",
       "      <td>Advancements in 3D Food Modeling: A Review of ...</td>\n",
       "      <td>1</td>\n",
       "      <td>CVPR</td>\n",
       "      <td>The MetaFood Workshop Challenge focuses on int...</td>\n",
       "    </tr>\n",
       "    <tr>\n",
       "      <th>1</th>\n",
       "      <td>R011.pdf</td>\n",
       "      <td>Addressing Popularity Bias with Popularity-Con...</td>\n",
       "      <td>1</td>\n",
       "      <td>KDD</td>\n",
       "      <td>Contemporary recommender systems face populari...</td>\n",
       "    </tr>\n",
       "    <tr>\n",
       "      <th>2</th>\n",
       "      <td>R002.pdf</td>\n",
       "      <td>Synergistic Convergence of Photosynthetic Path...</td>\n",
       "      <td>0</td>\n",
       "      <td>Non Publishable</td>\n",
       "      <td>This experimental research employs whimsical m...</td>\n",
       "    </tr>\n",
       "    <tr>\n",
       "      <th>3</th>\n",
       "      <td>R009.pdf</td>\n",
       "      <td>The Importance of Written Explanations in\\nAgg...</td>\n",
       "      <td>1</td>\n",
       "      <td>EMNLP</td>\n",
       "      <td>A study of the \"wisdom of the crowd\"</td>\n",
       "    </tr>\n",
       "    <tr>\n",
       "      <th>4</th>\n",
       "      <td>R004.pdf</td>\n",
       "      <td>AI-Driven Personalization in Online Education\\...</td>\n",
       "      <td>0</td>\n",
       "      <td>Non Publishable</td>\n",
       "      <td>We propose an unconventional method for incorp...</td>\n",
       "    </tr>\n",
       "    <tr>\n",
       "      <th>5</th>\n",
       "      <td>R010.pdf</td>\n",
       "      <td>Detecting Medication Usage in Parkinson’s Dise...</td>\n",
       "      <td>1</td>\n",
       "      <td>KDD</td>\n",
       "      <td>A transformer-based method for indoor localiza...</td>\n",
       "    </tr>\n",
       "    <tr>\n",
       "      <th>6</th>\n",
       "      <td>R015.pdf</td>\n",
       "      <td>Examining the Convergence of Denoising Diffusi...</td>\n",
       "      <td>1</td>\n",
       "      <td>TMLR</td>\n",
       "      <td>The results of a deep generative model are bas...</td>\n",
       "    </tr>\n",
       "    <tr>\n",
       "      <th>7</th>\n",
       "      <td>R003.pdf</td>\n",
       "      <td>Deciphering the Enigmatic Properties of Metals...</td>\n",
       "      <td>0</td>\n",
       "      <td>Non Publishable</td>\n",
       "      <td>The ephemeral and the mundane, as the luminesc...</td>\n",
       "    </tr>\n",
       "    <tr>\n",
       "      <th>8</th>\n",
       "      <td>R005.pdf</td>\n",
       "      <td>Analyzing Real-Time Group Coordination in\\nAug...</td>\n",
       "      <td>0</td>\n",
       "      <td>Non Publishable</td>\n",
       "      <td>AR enhances synchronization and fostering gest...</td>\n",
       "    </tr>\n",
       "    <tr>\n",
       "      <th>9</th>\n",
       "      <td>R014.pdf</td>\n",
       "      <td>Addressing Min-Max Challenges in Nonconvex-Non...</td>\n",
       "      <td>1</td>\n",
       "      <td>TMLR</td>\n",
       "      <td>We propose a new convergence method for saddle...</td>\n",
       "    </tr>\n",
       "    <tr>\n",
       "      <th>10</th>\n",
       "      <td>R001.pdf</td>\n",
       "      <td>Transdimensional Properties of Graphite in Rel...</td>\n",
       "      <td>0</td>\n",
       "      <td>Non Publishable</td>\n",
       "      <td>The eerie case of the missing socks in the lau...</td>\n",
       "    </tr>\n",
       "    <tr>\n",
       "      <th>11</th>\n",
       "      <td>R012.pdf</td>\n",
       "      <td>Safe Predictors for Input-Output Specification...</td>\n",
       "      <td>1</td>\n",
       "      <td>NeurIPS</td>\n",
       "      <td>We demonstrate the applicability of this metho...</td>\n",
       "    </tr>\n",
       "    <tr>\n",
       "      <th>12</th>\n",
       "      <td>R013.pdf</td>\n",
       "      <td>Generalization in ReLU Networks via Restricted...</td>\n",
       "      <td>1</td>\n",
       "      <td>NeurIPS</td>\n",
       "      <td>We propose a method for evaluating the empiric...</td>\n",
       "    </tr>\n",
       "    <tr>\n",
       "      <th>13</th>\n",
       "      <td>R006.pdf</td>\n",
       "      <td>Detailed Action Identification in Baseball Gam...</td>\n",
       "      <td>1</td>\n",
       "      <td>CVPR</td>\n",
       "      <td>A review of the effectiveness of different mod...</td>\n",
       "    </tr>\n",
       "    <tr>\n",
       "      <th>14</th>\n",
       "      <td>R008.pdf</td>\n",
       "      <td>Advanced techniques for through and contextual...</td>\n",
       "      <td>1</td>\n",
       "      <td>EMNLP</td>\n",
       "      <td>Dual annotations improve the accuracy of a neu...</td>\n",
       "    </tr>\n",
       "  </tbody>\n",
       "</table>\n",
       "</div>"
      ],
      "text/plain": [
       "          ID  ...                                          Rationale\n",
       "0   R007.pdf  ...  The MetaFood Workshop Challenge focuses on int...\n",
       "1   R011.pdf  ...  Contemporary recommender systems face populari...\n",
       "2   R002.pdf  ...  This experimental research employs whimsical m...\n",
       "3   R009.pdf  ...               A study of the \"wisdom of the crowd\"\n",
       "4   R004.pdf  ...  We propose an unconventional method for incorp...\n",
       "5   R010.pdf  ...  A transformer-based method for indoor localiza...\n",
       "6   R015.pdf  ...  The results of a deep generative model are bas...\n",
       "7   R003.pdf  ...  The ephemeral and the mundane, as the luminesc...\n",
       "8   R005.pdf  ...  AR enhances synchronization and fostering gest...\n",
       "9   R014.pdf  ...  We propose a new convergence method for saddle...\n",
       "10  R001.pdf  ...  The eerie case of the missing socks in the lau...\n",
       "11  R012.pdf  ...  We demonstrate the applicability of this metho...\n",
       "12  R013.pdf  ...  We propose a method for evaluating the empiric...\n",
       "13  R006.pdf  ...  A review of the effectiveness of different mod...\n",
       "14  R008.pdf  ...  Dual annotations improve the accuracy of a neu...\n",
       "\n",
       "[15 rows x 5 columns]"
      ]
     },
     "execution_count": 4,
     "metadata": {},
     "output_type": "execute_result"
    }
   ],
   "source": [
    "import pandas as pd\n",
    "\n",
    "csv_file_path = r\"C:\\Users\\Debajyoti\\OneDrive\\Desktop\\project task-1\\data\\main_csv_data.csv\"\n",
    "new_df = pd.read_csv(csv_file_path)\n",
    "new_df['Rationale'] = new_summaries\n",
    "\n",
    "new_df"
   ]
  },
  {
   "cell_type": "code",
   "execution_count": 5,
   "metadata": {},
   "outputs": [
    {
     "name": "stdout",
     "output_type": "stream",
     "text": [
      "csv file successfully transfered to destined file path ---->C:\\Users\\Debajyoti\\OneDrive\\Desktop\\project task-1\\data\\updated_publishable_data.csv\n"
     ]
    }
   ],
   "source": [
    "destination_path = r\"C:\\Users\\Debajyoti\\OneDrive\\Desktop\\project task-1\\data\\updated_publishable_data.csv\"\n",
    "new_df.to_csv(destination_path, index = False)\n",
    "print(f\"csv file successfully transfered to destined file path ---->{destination_path}\")"
   ]
  },
  {
   "cell_type": "code",
   "execution_count": 6,
   "metadata": {},
   "outputs": [
    {
     "ename": "ImportError",
     "evalue": "cannot import name 'create_prompt_for_sentiment' from 'create_prompt' (c:\\Users\\Debajyoti\\OneDrive\\Desktop\\project task-1\\model\\create_prompt.py)",
     "output_type": "error",
     "traceback": [
      "\u001b[1;31m---------------------------------------------------------------------------\u001b[0m",
      "\u001b[1;31mImportError\u001b[0m                               Traceback (most recent call last)",
      "Cell \u001b[1;32mIn[6], line 1\u001b[0m\n\u001b[1;32m----> 1\u001b[0m \u001b[38;5;28;01mfrom\u001b[39;00m \u001b[38;5;21;01mis_publishable\u001b[39;00m \u001b[38;5;28;01mimport\u001b[39;00m pred_sentiments,sentiments\n\u001b[0;32m      2\u001b[0m new_sentiments \u001b[38;5;241m=\u001b[39m sentiments \u001b[38;5;241m+\u001b[39m pred_sentiments\n\u001b[0;32m      3\u001b[0m \u001b[38;5;28mprint\u001b[39m(new_sentiments)\n",
      "File \u001b[1;32mc:\\Users\\Debajyoti\\OneDrive\\Desktop\\project task-1\\model\\is_publishable.py:2\u001b[0m\n\u001b[0;32m      1\u001b[0m \u001b[38;5;28;01mfrom\u001b[39;00m \u001b[38;5;21;01mmodels\u001b[39;00m \u001b[38;5;28;01mimport\u001b[39;00m llm_model, tokenizer, df\n\u001b[1;32m----> 2\u001b[0m \u001b[38;5;28;01mfrom\u001b[39;00m \u001b[38;5;21;01mcreate_prompt\u001b[39;00m \u001b[38;5;28;01mimport\u001b[39;00m create_prompt_for_sentiment\n\u001b[0;32m      4\u001b[0m sentiments \u001b[38;5;241m=\u001b[39m [\u001b[38;5;241m1\u001b[39m, \u001b[38;5;241m1\u001b[39m, \u001b[38;5;241m0\u001b[39m]\n\u001b[0;32m      5\u001b[0m example_indices_full \u001b[38;5;241m=\u001b[39m [\u001b[38;5;241m0\u001b[39m, \u001b[38;5;241m1\u001b[39m, \u001b[38;5;241m2\u001b[39m]\n",
      "\u001b[1;31mImportError\u001b[0m: cannot import name 'create_prompt_for_sentiment' from 'create_prompt' (c:\\Users\\Debajyoti\\OneDrive\\Desktop\\project task-1\\model\\create_prompt.py)"
     ]
    }
   ],
   "source": [
    "from is_publishable import pred_sentiments,sentiments\n",
    "new_sentiments = sentiments + pred_sentiments\n",
    "print(new_sentiments)"
   ]
  },
  {
   "cell_type": "code",
   "execution_count": null,
   "metadata": {},
   "outputs": [],
   "source": []
  }
 ],
 "metadata": {
  "kernelspec": {
   "display_name": "Python 3",
   "language": "python",
   "name": "python3"
  },
  "language_info": {
   "codemirror_mode": {
    "name": "ipython",
    "version": 3
   },
   "file_extension": ".py",
   "mimetype": "text/x-python",
   "name": "python",
   "nbconvert_exporter": "python",
   "pygments_lexer": "ipython3",
   "version": "3.12.3"
  }
 },
 "nbformat": 4,
 "nbformat_minor": 2
}
